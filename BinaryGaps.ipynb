{
 "cells": [
  {
   "cell_type": "code",
   "execution_count": 115,
   "id": "162bd6c2-41e1-4a8a-8445-efaf5392dbc1",
   "metadata": {
    "tags": []
   },
   "outputs": [],
   "source": [
    "import numpy as np"
   ]
  },
  {
   "cell_type": "code",
   "execution_count": 116,
   "id": "81047149-7e2e-47a2-9c48-d0bb48019eec",
   "metadata": {
    "tags": []
   },
   "outputs": [],
   "source": [
    "num_list = [9, 529, 20, 15, 32, 1041]"
   ]
  },
  {
   "cell_type": "code",
   "execution_count": 124,
   "id": "449f502c-fe87-4777-aaf1-85e4bfdb4a7d",
   "metadata": {
    "tags": []
   },
   "outputs": [
    {
     "name": "stdout",
     "output_type": "stream",
     "text": [
      "1\n",
      "0\n",
      "0\n",
      "1\n",
      "Binary gaps: [2], Longest Binary Gap: 2\n",
      "1\n",
      "0\n",
      "0\n",
      "0\n",
      "0\n",
      "1\n",
      "0\n",
      "0\n",
      "0\n",
      "1\n",
      "Binary gaps: [4, 3], Longest Binary Gap: 4\n",
      "1\n",
      "0\n",
      "1\n",
      "0\n",
      "0\n",
      "Binary gaps: [1], Longest Binary Gap: 1\n",
      "1\n",
      "1\n",
      "1\n",
      "1\n",
      "Binary gaps: [], Longest Binary Gap: 0\n",
      "1\n",
      "0\n",
      "0\n",
      "0\n",
      "0\n",
      "0\n",
      "Binary gaps: [], Longest Binary Gap: 0\n",
      "1\n",
      "0\n",
      "0\n",
      "0\n",
      "0\n",
      "0\n",
      "1\n",
      "0\n",
      "0\n",
      "0\n",
      "1\n",
      "Binary gaps: [5, 3], Longest Binary Gap: 5\n"
     ]
    }
   ],
   "source": [
    "for N in num_list:\n",
    "    N_binary_list = bin(N)[2:]\n",
    "    index_for_ones = []\n",
    "    for i in range(len(N_binary_list)):\n",
    "        print(N_binary_list[i])\n",
    "        if (N_binary_list[i] == '1'):\n",
    "           index_for_ones.append(i)\n",
    "    if ((len(index_for_ones) == len(N_binary_list)) or (len(index_for_ones) < 2)):\n",
    "        binary_gaps = []\n",
    "        longest_binary_gap = 0\n",
    "    else:\n",
    "        #binary_gaps = np.diff(index_for_ones) - 1 # Not supported in codility\n",
    "        binary_gaps = []\n",
    "        for j in range(len(index_for_ones)-1):\n",
    "            binary_gaps.append(index_for_ones[j+1] - index_for_ones[j] - 1)\n",
    "        longest_binary_gap = max(binary_gaps)\n",
    "    \n",
    "    print('Binary gaps: {}, Longest Binary Gap: {}'.format(binary_gaps, longest_binary_gap))"
   ]
  },
  {
   "cell_type": "code",
   "execution_count": null,
   "id": "6124b42b-273e-4fe0-8470-095cd8402f43",
   "metadata": {},
   "outputs": [],
   "source": []
  },
  {
   "cell_type": "code",
   "execution_count": null,
   "id": "f0e7a937-61cb-4007-b6bc-cbf225def505",
   "metadata": {},
   "outputs": [],
   "source": []
  }
 ],
 "metadata": {
  "kernelspec": {
   "display_name": "Python [conda env:.conda-py3_ml] *",
   "language": "python",
   "name": "conda-env-.conda-py3_ml-py"
  },
  "language_info": {
   "codemirror_mode": {
    "name": "ipython",
    "version": 3
   },
   "file_extension": ".py",
   "mimetype": "text/x-python",
   "name": "python",
   "nbconvert_exporter": "python",
   "pygments_lexer": "ipython3",
   "version": "3.8.18"
  }
 },
 "nbformat": 4,
 "nbformat_minor": 5
}
